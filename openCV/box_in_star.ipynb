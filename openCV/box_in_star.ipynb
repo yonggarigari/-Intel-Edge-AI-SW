{
 "cells": [
  {
   "cell_type": "code",
   "execution_count": 1,
   "metadata": {},
   "outputs": [
    {
     "name": "stdout",
     "output_type": "stream",
     "text": [
      "(95, 500)\n",
      "(250, 0)\n",
      "(404, 500)\n",
      "(0, 166)\n",
      "(500, 166)\n"
     ]
    }
   ],
   "source": [
    "#별 그리기\n",
    "import math\n",
    "import cv2\n",
    "import numpy as np\n",
    "\n",
    "img = np.full((500,500,3), 255, np.uint8)\n",
    "\n",
    "a = ((250-(np.cos(math.radians(72))*500)), 500)\n",
    "b = (250, 0)\n",
    "c = ((250+(np.cos(math.radians(72))*500)), 500)\n",
    "d = (0, (500/3))\n",
    "e = (500, (500/3))\n",
    "\n",
    "a=(95, 500)\n",
    "c=(404, 500)\n",
    "d=(0, 166)\n",
    "e=(500, 166)\n",
    "\n",
    "print(a)\n",
    "print(b)\n",
    "print(c)\n",
    "print(d)\n",
    "print(e)\n",
    "\n",
    "\n",
    "cv2.line(img, a, b, (255, 0, 0), 1)\n",
    "cv2.line(img, b, c, (255, 0, 0), 1)\n",
    "cv2.line(img, c, d, (255, 0, 0), 1)\n",
    "cv2.line(img, d, e, (255, 0, 0), 1)\n",
    "cv2.line(img, a, e, (255, 0, 0), 1)\n",
    "    \n",
    "\n",
    "\n",
    "cv2.imshow('Line', img)\n",
    "cv2.waitKey(0)\n",
    "cv2.destroyAllWindows()"
   ]
  }
 ],
 "metadata": {
  "kernelspec": {
   "display_name": "Python 3",
   "language": "python",
   "name": "python3"
  },
  "language_info": {
   "codemirror_mode": {
    "name": "ipython",
    "version": 3
   },
   "file_extension": ".py",
   "mimetype": "text/x-python",
   "name": "python",
   "nbconvert_exporter": "python",
   "pygments_lexer": "ipython3",
   "version": "3.11.7"
  }
 },
 "nbformat": 4,
 "nbformat_minor": 2
}
